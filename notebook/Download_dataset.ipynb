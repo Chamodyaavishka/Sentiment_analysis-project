{
 "cells": [
  {
   "cell_type": "code",
   "execution_count": 1,
   "metadata": {},
   "outputs": [],
   "source": [
    "import pandas as pd\n"
   ]
  },
  {
   "cell_type": "code",
   "execution_count": 6,
   "metadata": {},
   "outputs": [],
   "source": [
    "import json\n",
    "with open('/Users/chamodyaavishka/Desktop/Sentiment_analysis-project/artifacts/kaggle-4.json','r')as file:\n",
    "    data= json.load(file)"
   ]
  },
  {
   "cell_type": "code",
   "execution_count": 7,
   "metadata": {},
   "outputs": [
    {
     "data": {
      "text/plain": [
       "{'username': 'chamodyaavishka', 'key': '378f2983be3971250774b324b34af9d0'}"
      ]
     },
     "execution_count": 7,
     "metadata": {},
     "output_type": "execute_result"
    }
   ],
   "source": [
    "data"
   ]
  },
  {
   "cell_type": "code",
   "execution_count": 8,
   "metadata": {},
   "outputs": [
    {
     "name": "stdout",
     "output_type": "stream",
     "text": [
      "\u001b[33mWARNING: Ignoring invalid distribution ~orch (/Users/chamodyaavishka/anaconda3/envs/NEW/lib/python3.12/site-packages)\u001b[0m\u001b[33m\n",
      "\u001b[0m\u001b[33mWARNING: Ignoring invalid distribution ~orch (/Users/chamodyaavishka/anaconda3/envs/NEW/lib/python3.12/site-packages)\u001b[0m\u001b[33m\n",
      "\u001b[0mRequirement already satisfied: kaggle in /Users/chamodyaavishka/anaconda3/envs/NEW/lib/python3.12/site-packages (1.6.12)\n",
      "Requirement already satisfied: six>=1.10 in /Users/chamodyaavishka/anaconda3/envs/NEW/lib/python3.12/site-packages (from kaggle) (1.16.0)\n",
      "Requirement already satisfied: certifi>=2023.7.22 in /Users/chamodyaavishka/anaconda3/envs/NEW/lib/python3.12/site-packages (from kaggle) (2023.7.22)\n",
      "Requirement already satisfied: python-dateutil in /Users/chamodyaavishka/anaconda3/envs/NEW/lib/python3.12/site-packages (from kaggle) (2.9.0)\n",
      "Requirement already satisfied: requests in /Users/chamodyaavishka/anaconda3/envs/NEW/lib/python3.12/site-packages (from kaggle) (2.31.0)\n",
      "Requirement already satisfied: tqdm in /Users/chamodyaavishka/anaconda3/envs/NEW/lib/python3.12/site-packages (from kaggle) (4.66.2)\n",
      "Requirement already satisfied: python-slugify in /Users/chamodyaavishka/anaconda3/envs/NEW/lib/python3.12/site-packages (from kaggle) (8.0.4)\n",
      "Requirement already satisfied: urllib3 in /Users/chamodyaavishka/anaconda3/envs/NEW/lib/python3.12/site-packages (from kaggle) (2.2.1)\n",
      "Requirement already satisfied: bleach in /Users/chamodyaavishka/anaconda3/envs/NEW/lib/python3.12/site-packages (from kaggle) (6.1.0)\n",
      "Requirement already satisfied: webencodings in /Users/chamodyaavishka/anaconda3/envs/NEW/lib/python3.12/site-packages (from bleach->kaggle) (0.5.1)\n",
      "Requirement already satisfied: text-unidecode>=1.3 in /Users/chamodyaavishka/anaconda3/envs/NEW/lib/python3.12/site-packages (from python-slugify->kaggle) (1.3)\n",
      "Requirement already satisfied: charset-normalizer<4,>=2 in /Users/chamodyaavishka/anaconda3/envs/NEW/lib/python3.12/site-packages (from requests->kaggle) (3.3.2)\n",
      "Requirement already satisfied: idna<4,>=2.5 in /Users/chamodyaavishka/anaconda3/envs/NEW/lib/python3.12/site-packages (from requests->kaggle) (2.10)\n",
      "\u001b[33mWARNING: Ignoring invalid distribution ~orch (/Users/chamodyaavishka/anaconda3/envs/NEW/lib/python3.12/site-packages)\u001b[0m\u001b[33m\n",
      "\u001b[0m\u001b[33mWARNING: Ignoring invalid distribution ~orch (/Users/chamodyaavishka/anaconda3/envs/NEW/lib/python3.12/site-packages)\u001b[0m\u001b[33m\n",
      "\u001b[0m\u001b[33mWARNING: Ignoring invalid distribution ~orch (/Users/chamodyaavishka/anaconda3/envs/NEW/lib/python3.12/site-packages)\u001b[0m\u001b[33m\n",
      "\u001b[0m\u001b[33mWARNING: Ignoring invalid distribution ~orch (/Users/chamodyaavishka/anaconda3/envs/NEW/lib/python3.12/site-packages)\u001b[0m\u001b[33m\n",
      "\u001b[0m"
     ]
    }
   ],
   "source": [
    "!pip install kaggle"
   ]
  },
  {
   "cell_type": "code",
   "execution_count": 13,
   "metadata": {},
   "outputs": [],
   "source": [
    "import os\n",
    "\n",
    "# Set environment variables\n",
    "os.environ['KAGGLE_USERNAME'] = 'your_username'\n",
    "os.environ['KAGGLE_KEY'] = 'your_key'\n",
    "\n",
    "from kaggle.api.kaggle_api_extended import KaggleApi\n",
    "api = KaggleApi()\n",
    "api.authenticate()\n"
   ]
  },
  {
   "cell_type": "code",
   "execution_count": 14,
   "metadata": {},
   "outputs": [],
   "source": [
    "from kaggle.api.kaggle_api_extended import KaggleApi\n",
    "api = KaggleApi()\n",
    "api.config_dir = \"/Users/chamodyaavishka/Desktop/Sentiment_analysis-project/artifacts/kaggle-4.json\"  # Update this path to where your kaggle.json is\n",
    "api.authenticate()\n"
   ]
  },
  {
   "cell_type": "code",
   "execution_count": 16,
   "metadata": {},
   "outputs": [
    {
     "name": "stdout",
     "output_type": "stream",
     "text": [
      "Dataset URL: https://www.kaggle.com/datasets/dineshpiyasamara/sentiment-analysis-dataset\n"
     ]
    }
   ],
   "source": [
    "api.dataset_download_files('dineshpiyasamara/sentiment-analysis-dataset','/Users/chamodyaavishka/Desktop/Sentiment_analysis-project/artifacts')"
   ]
  },
  {
   "cell_type": "code",
   "execution_count": 18,
   "metadata": {},
   "outputs": [],
   "source": [
    "import zipfile\n",
    "\n",
    "# Specify the path to your zip file\n",
    "zip_path = '/Users/chamodyaavishka/Desktop/Sentiment_analysis-project/artifacts/sentiment-analysis-dataset.zip'\n",
    "# Specify the output directory where the contents should be extracted\n",
    "extract_path = '/Users/chamodyaavishka/Desktop/Sentiment_analysis-project/artifacts'\n",
    "\n",
    "# Use the 'ZipFile' class to open and extract the zip file\n",
    "with zipfile.ZipFile(zip_path, 'r') as zip_ref:\n",
    "    zip_ref.extractall(extract_path)\n"
   ]
  },
  {
   "cell_type": "code",
   "execution_count": null,
   "metadata": {},
   "outputs": [],
   "source": []
  }
 ],
 "metadata": {
  "kernelspec": {
   "display_name": "NEW",
   "language": "python",
   "name": "python3"
  },
  "language_info": {
   "codemirror_mode": {
    "name": "ipython",
    "version": 3
   },
   "file_extension": ".py",
   "mimetype": "text/x-python",
   "name": "python",
   "nbconvert_exporter": "python",
   "pygments_lexer": "ipython3",
   "version": "3.12.2"
  }
 },
 "nbformat": 4,
 "nbformat_minor": 2
}
